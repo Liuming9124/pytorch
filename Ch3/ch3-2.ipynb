{
 "cells": [
  {
   "cell_type": "markdown",
   "metadata": {},
   "source": [
    "# 3-2張量運算"
   ]
  },
  {
   "cell_type": "code",
   "execution_count": 2,
   "metadata": {},
   "outputs": [],
   "source": [
    "import torch"
   ]
  },
  {
   "cell_type": "code",
   "execution_count": 4,
   "metadata": {},
   "outputs": [
    {
     "name": "stdout",
     "output_type": "stream",
     "text": [
      "tensor([[1, 2]])\n",
      "tensor([[1, 2]], dtype=torch.int32)\n",
      "tensor([[1., 2.]])\n",
      "tensor([[1, 2]])\n"
     ]
    }
   ],
   "source": [
    "tensor = torch.tensor([[1,2]])\n",
    "print(tensor)\n",
    "\n",
    "tensor2 = torch.IntTensor([[1,2]])\n",
    "print(tensor2)\n",
    "\n",
    "tensor3 = torch.FloatTensor([[1,2]])\n",
    "print(tensor3)\n",
    "\n",
    "tensor4 = torch.LongTensor([[1,2]])\n",
    "print(tensor4)\n"
   ]
  },
  {
   "cell_type": "code",
   "execution_count": 6,
   "metadata": {},
   "outputs": [
    {
     "name": "stdout",
     "output_type": "stream",
     "text": [
      "tensor([[10, 10, 10],\n",
      "        [ 7,  7, 12]])\n",
      "tensor([[-8, -6, -4],\n",
      "        [ 1,  3,  0]])\n",
      "tensor([[ 9, 16, 21],\n",
      "        [12, 10, 36]])\n",
      "tensor([[0.1111, 0.2500, 0.4286],\n",
      "        [1.3333, 2.5000, 1.0000]])\n",
      "tensor([[ 22,  41],\n",
      "        [ 64, 104]])\n"
     ]
    }
   ],
   "source": [
    "# 四則運算\n",
    "\n",
    "A = torch.tensor([[1,2,3],\n",
    "                    [4,5,6]])\n",
    "B = torch.tensor([[9,8,7],\n",
    "                    [3,2,6]])\n",
    "\n",
    "print(A+B)\n",
    "print(A-B)\n",
    "print(A*B)\n",
    "print(A/B)\n",
    "\n",
    "# 內積\n",
    "\n",
    "a = torch.tensor([[1,2,3],\n",
    "                  [4,5,6]])\n",
    "b = torch.tensor([[9,8],\n",
    "                  [2,6],\n",
    "                  [3,7]])\n",
    "\n",
    "print(a@b)"
   ]
  },
  {
   "cell_type": "code",
   "execution_count": 8,
   "metadata": {},
   "outputs": [
    {
     "name": "stdout",
     "output_type": "stream",
     "text": [
      "[[1 2 3]\n",
      " [4 5 6]]\n"
     ]
    }
   ],
   "source": [
    "# 只要顯示數值 可轉換為Numpy array : x.numpy()\n",
    "import numpy as np\n",
    "A = torch.tensor([[1,2,3],\n",
    "                    [4,5,6]])\n",
    "print(A.numpy())\n"
   ]
  },
  {
   "cell_type": "code",
   "execution_count": 10,
   "metadata": {},
   "outputs": [
    {
     "data": {
      "text/plain": [
       "tensor([[1, 2]], dtype=torch.int32)"
      ]
     },
     "execution_count": 10,
     "metadata": {},
     "output_type": "execute_result"
    }
   ],
   "source": [
    "# Numpy -> Pytorch\n",
    "\n",
    "array = np.array([[1,2]])\n",
    "\n",
    "tensor = torch.from_numpy(array)\n",
    "tensor"
   ]
  },
  {
   "cell_type": "code",
   "execution_count": 14,
   "metadata": {},
   "outputs": [
    {
     "name": "stdout",
     "output_type": "stream",
     "text": [
      "tensor([5, 7, 9])\n",
      "tensor([ 6, 15])\n"
     ]
    }
   ],
   "source": [
    "# 沿著特定軸加總，輸出維度會少一維 sum() in pytorch, resuce_sum in tensorflow\n",
    "A = torch.tensor([[1,2,3],\n",
    "                    [4,5,6]])\n",
    "print(A.sum(axis=0))\n",
    "print(A.sum(axis=1))"
   ]
  },
  {
   "cell_type": "code",
   "execution_count": 19,
   "metadata": {},
   "outputs": [
    {
     "name": "stdout",
     "output_type": "stream",
     "text": [
      "tensor([[1, 2]], device='cuda:0', dtype=torch.int32)\n",
      "tensor([[1, 2]], dtype=torch.int32)\n"
     ]
    }
   ],
   "source": [
    "# Sparse Matrix\n",
    "# Tensorflow : 自動決定var在CPU或GPU上\n",
    "# Pytorch : 需要手動指定 不允許一個var在CPU，另一個var在GPU上，進行運算會出現錯誤\n",
    "\n",
    "# .to('cpu') or .to('cuda') or .to('cuda:0') or .to('cuda:1')\n",
    "\n",
    "tensor_gpu = tensor.cuda()\n",
    "print(tensor_gpu)\n",
    "\n",
    "# 如果兩張GPU，可以指定哪一張\n",
    "# tensor_gpu_2 = tensor_gpu.to('cuda:1')\n",
    "# print(tensor_gpu_2)\n",
    "\n",
    "# 如果要將GPU上的tensor轉回CPU\n",
    "tensor_cpu = tensor_gpu.cpu()\n",
    "print(tensor_cpu)\n"
   ]
  },
  {
   "cell_type": "code",
   "execution_count": 20,
   "metadata": {},
   "outputs": [
    {
     "ename": "RuntimeError",
     "evalue": "Expected all tensors to be on the same device, but found at least two devices, cuda:0 and cpu!",
     "output_type": "error",
     "traceback": [
      "\u001b[1;31m---------------------------------------------------------------------------\u001b[0m",
      "\u001b[1;31mRuntimeError\u001b[0m                              Traceback (most recent call last)",
      "Cell \u001b[1;32mIn[20], line 2\u001b[0m\n\u001b[0;32m      1\u001b[0m \u001b[38;5;66;03m# CPU與GPU上的tensor不能直接進行運算，必須轉換成同一個device\u001b[39;00m\n\u001b[1;32m----> 2\u001b[0m \u001b[43mtensor_cpu\u001b[49m\u001b[43m \u001b[49m\u001b[38;5;241;43m+\u001b[39;49m\u001b[43m \u001b[49m\u001b[43mtensor_gpu\u001b[49m\n",
      "\u001b[1;31mRuntimeError\u001b[0m: Expected all tensors to be on the same device, but found at least two devices, cuda:0 and cpu!"
     ]
    }
   ],
   "source": [
    "# CPU與GPU上的tensor不能直接進行運算，必須轉換成同一個device\n",
    "tensor_cpu + tensor_gpu"
   ]
  },
  {
   "cell_type": "code",
   "execution_count": 23,
   "metadata": {},
   "outputs": [
    {
     "data": {
      "text/plain": [
       "tensor([[2, 4]], device='cuda:0', dtype=torch.int32)"
      ]
     },
     "execution_count": 23,
     "metadata": {},
     "output_type": "execute_result"
    }
   ],
   "source": [
    "# 改成如此即可正運算\n",
    "tensor_gpu + tensor_cpu.cuda()"
   ]
  },
  {
   "cell_type": "code",
   "execution_count": 25,
   "metadata": {},
   "outputs": [
    {
     "data": {
      "text/plain": [
       "tensor([[2, 4]], device='cuda:0', dtype=torch.int32)"
      ]
     },
     "execution_count": 25,
     "metadata": {},
     "output_type": "execute_result"
    }
   ],
   "source": [
    "# 在擁有GPU及只有CPU的環境下皆可運行\n",
    "device = 'cuda' if torch.cuda.is_available() else 'cpu'\n",
    "\n",
    "tensor_gpu.to(device) + tensor_cpu.to(device)"
   ]
  },
  {
   "cell_type": "code",
   "execution_count": 27,
   "metadata": {},
   "outputs": [
    {
     "name": "stderr",
     "output_type": "stream",
     "text": [
      "C:\\Users\\a7234\\AppData\\Local\\Temp\\ipykernel_26696\\444830190.py:11: UserWarning: torch.sparse.SparseTensor(indices, values, shape, *, device=) is deprecated.  Please use torch.sparse_coo_tensor(indices, values, shape, dtype=, device=). (Triggered internally at ..\\torch\\csrc\\utils\\tensor_new.cpp:607.)\n",
      "  torch.sparse.FloatTensor(i,v,torch.Size([2,3])).to_dense()\n"
     ]
    },
    {
     "data": {
      "text/plain": [
       "tensor([[0., 0., 3.],\n",
       "        [4., 0., 5.]])"
      ]
     },
     "execution_count": 27,
     "metadata": {},
     "output_type": "execute_result"
    }
   ],
   "source": [
    "# Sparse Matrix\n",
    "# 需要設定值的位置，以及值\n",
    "\n",
    "# define (row, col)\n",
    "i = torch.LongTensor([[0,1,1],\n",
    "                      [2,0,2]])\n",
    "# define value\n",
    "v = torch.FloatTensor([3,4,5])\n",
    "\n",
    "# define shape (2,3), turn into sparse matrix\n",
    "torch.sparse.FloatTensor(i,v,torch.Size([2,3])).to_dense()"
   ]
  },
  {
   "cell_type": "code",
   "execution_count": 28,
   "metadata": {},
   "outputs": [
    {
     "data": {
      "text/plain": [
       "tensor([[ 0.,  0.,  6.],\n",
       "        [ 8.,  0., 10.]])"
      ]
     },
     "execution_count": 28,
     "metadata": {},
     "output_type": "execute_result"
    }
   ],
   "source": [
    "# 稀疏矩陣運算寫法\n",
    "\n",
    "a = torch.sparse.FloatTensor(i,v,torch.Size([2,3])) + \\\n",
    "    torch.sparse.FloatTensor(i,v,torch.Size([2,3]))\n",
    "a.to_dense()"
   ]
  },
  {
   "cell_type": "code",
   "execution_count": 30,
   "metadata": {},
   "outputs": [
    {
     "name": "stdout",
     "output_type": "stream",
     "text": [
      "True\n"
     ]
    }
   ],
   "source": [
    "# 在程式開頭可以直接設定\n",
    "# 禁用GPU\n",
    "import torch\n",
    "import os\n",
    "\n",
    "os.environ[\"CUDA_VISIBLE_DEVICES\"] = \"-1\"\n",
    "# 檢查GPU及cuda toolkit是否存在\n",
    "print(torch.cuda.is_available())\n",
    "\n",
    "# 若有多張GPU 可指定使用哪一張\n",
    "import os\n",
    "os.environ[\"CUDA_VISIBLE_DEVICES\"] = \"0\""
   ]
  }
 ],
 "metadata": {
  "kernelspec": {
   "display_name": "Python 3",
   "language": "python",
   "name": "python3"
  },
  "language_info": {
   "codemirror_mode": {
    "name": "ipython",
    "version": 3
   },
   "file_extension": ".py",
   "mimetype": "text/x-python",
   "name": "python",
   "nbconvert_exporter": "python",
   "pygments_lexer": "ipython3",
   "version": "3.11.4"
  }
 },
 "nbformat": 4,
 "nbformat_minor": 2
}
