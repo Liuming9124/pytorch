{
 "cells": [
  {
   "cell_type": "markdown",
   "metadata": {},
   "source": [
    "# Ch3-3 自動微分"
   ]
  },
  {
   "cell_type": "code",
   "execution_count": 1,
   "metadata": {},
   "outputs": [
    {
     "name": "stdout",
     "output_type": "stream",
     "text": [
      "tensor(16., grad_fn=<PowBackward0>)\n",
      "<PowBackward0 object at 0x00000294E1066230>\n",
      "tensor(8.)\n"
     ]
    }
   ],
   "source": [
    "# 1. 變數y即會對x自動偏微分\n",
    "\n",
    "import torch\n",
    "\n",
    "# 設定 x 參與自動微分\n",
    "x = torch.tensor(4.0, requires_grad=True)\n",
    "\n",
    "y = x ** 2\n",
    "\n",
    "print(y)\n",
    "print(y.grad_fn) # y 梯度函數\n",
    "y.backward() # 反向傳導\n",
    "print(x.grad) # 取得梯度\n"
   ]
  },
  {
   "cell_type": "code",
   "execution_count": 2,
   "metadata": {},
   "outputs": [
    {
     "name": "stdout",
     "output_type": "stream",
     "text": [
      "x\n",
      "data: 1.0\n",
      "requires_grad: True\n",
      "grad: None\n",
      "grad_fn: None\n",
      "is_leaf: True\n",
      "\n",
      "y\n",
      "data: 2.0\n",
      "requires_grad: False\n",
      "grad: None\n",
      "grad_fn: None\n",
      "is_leaf: True\n",
      "\n",
      "z\n",
      "data: 2.0\n",
      "requires_grad: True\n",
      "grad: None\n",
      "grad_fn: <MulBackward0 object at 0x00000294AF87E080>\n",
      "is_leaf: False\n",
      "\n"
     ]
    },
    {
     "name": "stderr",
     "output_type": "stream",
     "text": [
      "C:\\Users\\a7234\\AppData\\Local\\Temp\\ipykernel_16652\\3004689385.py:12: UserWarning: The .grad attribute of a Tensor that is not a leaf Tensor is being accessed. Its .grad attribute won't be populated during autograd.backward(). If you indeed want the .grad field to be populated for a non-leaf Tensor, use .retain_grad() on the non-leaf Tensor. If you access the non-leaf Tensor by mistake, make sure you access the leaf Tensor instead. See github.com/pytorch/pytorch/pull/30531 for more informations. (Triggered internally at aten\\src\\ATen/core/TensorBody.h:494.)\n",
      "  print(f\"{name}\\ndata: {i.data}\\nrequires_grad: {i.requires_grad}\\ngrad: {i.grad}\\ngrad_fn: {i.grad_fn}\\nis_leaf: {i.is_leaf}\\n\")\n"
     ]
    }
   ],
   "source": [
    "# 2. 可取得自動微分相關的屬性值\n",
    "\n",
    "import torch\n",
    "\n",
    "#設定變數值\n",
    "x = torch.tensor(1.0, requires_grad=True)\n",
    "y = torch.tensor(2.0)\n",
    "z = x * y\n",
    "\n",
    "# 顯示自動微分相關屬性\n",
    "for i, name in zip([x,y,z], \"xyz\"):\n",
    "    print(f\"{name}\\ndata: {i.data}\\nrequires_grad: {i.requires_grad}\\ngrad: {i.grad}\\ngrad_fn: {i.grad_fn}\\nis_leaf: {i.is_leaf}\\n\")"
   ]
  },
  {
   "cell_type": "code",
   "execution_count": 3,
   "metadata": {},
   "outputs": [
    {
     "name": "stdout",
     "output_type": "stream",
     "text": [
      "z 梯度函數: <AddBackward0 object at 0x00000294AE83BAF0>\n",
      "loss 梯度函數: <BinaryCrossEntropyWithLogitsBackward0 object at 0x00000294AF87E8C0>\n"
     ]
    }
   ],
   "source": [
    "# 3. 以Cross Entropy為例，展示自動微分的運算\n",
    "\n",
    "x = torch.ones(5) # create one dimension tensor with 5 elements and fill with 1\n",
    "y = torch.zeros(3) # create one dimension tensor with 3 elements and fill with 0\n",
    "w = torch.randn(5, 3, requires_grad=True) # create 5x3 tensor with random number\n",
    "b = torch.randn(3, requires_grad=True) # create 1x3 tensor with random number\n",
    "z = torch.matmul(x, w) + b\n",
    "loss = torch.nn.functional.binary_cross_entropy_with_logits(z, y)\n",
    "\n",
    "print('z 梯度函數:', z.grad_fn)\n",
    "print('loss 梯度函數:', loss.grad_fn)"
   ]
  },
  {
   "cell_type": "code",
   "execution_count": null,
   "metadata": {},
   "outputs": [],
   "source": []
  }
 ],
 "metadata": {
  "kernelspec": {
   "display_name": "Python 3",
   "language": "python",
   "name": "python3"
  },
  "language_info": {
   "codemirror_mode": {
    "name": "ipython",
    "version": 3
   },
   "file_extension": ".py",
   "mimetype": "text/x-python",
   "name": "python",
   "nbconvert_exporter": "python",
   "pygments_lexer": "ipython3",
   "version": "3.11.4"
  }
 },
 "nbformat": 4,
 "nbformat_minor": 2
}
